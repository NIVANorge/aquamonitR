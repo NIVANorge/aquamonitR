{
 "cells": [
  {
   "cell_type": "code",
   "execution_count": 1,
   "metadata": {
    "vscode": {
     "languageId": "r"
    }
   },
   "outputs": [],
   "source": [
    "library(\"aquamonitR\")"
   ]
  },
  {
   "cell_type": "markdown",
   "metadata": {},
   "source": [
    "# Query project-specific water chemistry data using the Aquamonitor API from R\n",
    "\n",
    "`aquamonitR` is a translation of [Aquamonitor-Python](https://github.com/NIVANorge/Aquamonitor-Python) to R."
   ]
  },
  {
   "cell_type": "markdown",
   "metadata": {},
   "source": [
    "## 1. Login"
   ]
  },
  {
   "cell_type": "code",
   "execution_count": 2,
   "metadata": {
    "vscode": {
     "languageId": "r"
    }
   },
   "outputs": [],
   "source": [
    "# Login to AM\n",
    "token <- login()"
   ]
  },
  {
   "cell_type": "markdown",
   "metadata": {},
   "source": [
    "## 2. List projects\n",
    "\n",
    "The `get_projects` function returns a list of all projects in the database. You can search this dataframe to identify the correct project ID for the project you are interested in."
   ]
  },
  {
   "cell_type": "code",
   "execution_count": 3,
   "metadata": {
    "vscode": {
     "languageId": "r"
    }
   },
   "outputs": [
    {
     "data": {
      "text/html": [
       "'1507 projects in the database.'"
      ],
      "text/latex": [
       "'1507 projects in the database.'"
      ],
      "text/markdown": [
       "'1507 projects in the database.'"
      ],
      "text/plain": [
       "[1] \"1507 projects in the database.\""
      ]
     },
     "metadata": {},
     "output_type": "display_data"
    },
    {
     "data": {
      "text/html": [
       "<table class=\"dataframe\">\n",
       "<caption>A data.frame: 6 × 4</caption>\n",
       "<thead>\n",
       "\t<tr><th></th><th scope=col>project_id</th><th scope=col>project_name</th><th scope=col>description</th><th scope=col>project_code</th></tr>\n",
       "\t<tr><th></th><th scope=col>&lt;int&gt;</th><th scope=col>&lt;chr&gt;</th><th scope=col>&lt;chr&gt;</th><th scope=col>&lt;list&gt;</th></tr>\n",
       "</thead>\n",
       "<tbody>\n",
       "\t<tr><th scope=row>1</th><td>2380</td><td>Trondheimsfjorden 1540_83     </td><td>1540_83  </td><td>NULL</td></tr>\n",
       "\t<tr><th scope=row>2</th><td>2381</td><td>Trondheimsfjorden 1641_84     </td><td>1641_84  </td><td>NULL</td></tr>\n",
       "\t<tr><th scope=row>3</th><td>2382</td><td>Tvedestrand supp. sedimentund.</td><td>4986-2005</td><td>188  , 24278</td></tr>\n",
       "\t<tr><th scope=row>4</th><td>2383</td><td>Varangerfjorden 2213_89       </td><td>2213_89  </td><td>NULL</td></tr>\n",
       "\t<tr><th scope=row>5</th><td>2384</td><td>Varangerfjorden 3281_95       </td><td>3281_95  </td><td>NULL</td></tr>\n",
       "\t<tr><th scope=row>6</th><td>2385</td><td>Vefsnfjorden 1330_81          </td><td>1330_81  </td><td>NULL</td></tr>\n",
       "</tbody>\n",
       "</table>\n"
      ],
      "text/latex": [
       "A data.frame: 6 × 4\n",
       "\\begin{tabular}{r|llll}\n",
       "  & project\\_id & project\\_name & description & project\\_code\\\\\n",
       "  & <int> & <chr> & <chr> & <list>\\\\\n",
       "\\hline\n",
       "\t1 & 2380 & Trondheimsfjorden 1540\\_83      & 1540\\_83   & NULL\\\\\n",
       "\t2 & 2381 & Trondheimsfjorden 1641\\_84      & 1641\\_84   & NULL\\\\\n",
       "\t3 & 2382 & Tvedestrand supp. sedimentund. & 4986-2005 & 188  , 24278\\\\\n",
       "\t4 & 2383 & Varangerfjorden 2213\\_89        & 2213\\_89   & NULL\\\\\n",
       "\t5 & 2384 & Varangerfjorden 3281\\_95        & 3281\\_95   & NULL\\\\\n",
       "\t6 & 2385 & Vefsnfjorden 1330\\_81           & 1330\\_81   & NULL\\\\\n",
       "\\end{tabular}\n"
      ],
      "text/markdown": [
       "\n",
       "A data.frame: 6 × 4\n",
       "\n",
       "| <!--/--> | project_id &lt;int&gt; | project_name &lt;chr&gt; | description &lt;chr&gt; | project_code &lt;list&gt; |\n",
       "|---|---|---|---|---|\n",
       "| 1 | 2380 | Trondheimsfjorden 1540_83      | 1540_83   | NULL |\n",
       "| 2 | 2381 | Trondheimsfjorden 1641_84      | 1641_84   | NULL |\n",
       "| 3 | 2382 | Tvedestrand supp. sedimentund. | 4986-2005 | 188  , 24278 |\n",
       "| 4 | 2383 | Varangerfjorden 2213_89        | 2213_89   | NULL |\n",
       "| 5 | 2384 | Varangerfjorden 3281_95        | 3281_95   | NULL |\n",
       "| 6 | 2385 | Vefsnfjorden 1330_81           | 1330_81   | NULL |\n",
       "\n"
      ],
      "text/plain": [
       "  project_id project_name                   description project_code\n",
       "1 2380       Trondheimsfjorden 1540_83      1540_83     NULL        \n",
       "2 2381       Trondheimsfjorden 1641_84      1641_84     NULL        \n",
       "3 2382       Tvedestrand supp. sedimentund. 4986-2005   188  , 24278\n",
       "4 2383       Varangerfjorden 2213_89        2213_89     NULL        \n",
       "5 2384       Varangerfjorden 3281_95        3281_95     NULL        \n",
       "6 2385       Vefsnfjorden 1330_81           1330_81     NULL        "
      ]
     },
     "metadata": {},
     "output_type": "display_data"
    }
   ],
   "source": [
    "proj_df <- get_projects(token = token)\n",
    "paste0(nrow(proj_df), \" projects in the database.\")\n",
    "head(proj_df)"
   ]
  },
  {
   "cell_type": "code",
   "execution_count": 4,
   "metadata": {
    "vscode": {
     "languageId": "r"
    }
   },
   "outputs": [
    {
     "data": {
      "text/html": [
       "<table class=\"dataframe\">\n",
       "<caption>A data.frame: 1 × 4</caption>\n",
       "<thead>\n",
       "\t<tr><th></th><th scope=col>project_id</th><th scope=col>project_name</th><th scope=col>description</th><th scope=col>project_code</th></tr>\n",
       "\t<tr><th></th><th scope=col>&lt;int&gt;</th><th scope=col>&lt;chr&gt;</th><th scope=col>&lt;chr&gt;</th><th scope=col>&lt;list&gt;</th></tr>\n",
       "</thead>\n",
       "<tbody>\n",
       "\t<tr><th scope=row>1327</th><td>12433</td><td>Nasjonal Innsjøundersøkelse 2019</td><td>1000-sjøer undersøkelse gjennomført i 2019</td><td>8619  , 190091</td></tr>\n",
       "</tbody>\n",
       "</table>\n"
      ],
      "text/latex": [
       "A data.frame: 1 × 4\n",
       "\\begin{tabular}{r|llll}\n",
       "  & project\\_id & project\\_name & description & project\\_code\\\\\n",
       "  & <int> & <chr> & <chr> & <list>\\\\\n",
       "\\hline\n",
       "\t1327 & 12433 & Nasjonal Innsjøundersøkelse 2019 & 1000-sjøer undersøkelse gjennomført i 2019 & 8619  , 190091\\\\\n",
       "\\end{tabular}\n"
      ],
      "text/markdown": [
       "\n",
       "A data.frame: 1 × 4\n",
       "\n",
       "| <!--/--> | project_id &lt;int&gt; | project_name &lt;chr&gt; | description &lt;chr&gt; | project_code &lt;list&gt; |\n",
       "|---|---|---|---|---|\n",
       "| 1327 | 12433 | Nasjonal Innsjøundersøkelse 2019 | 1000-sjøer undersøkelse gjennomført i 2019 | 8619  , 190091 |\n",
       "\n"
      ],
      "text/plain": [
       "     project_id project_name                    \n",
       "1327 12433      Nasjonal Innsjøundersøkelse 2019\n",
       "     description                                project_code  \n",
       "1327 1000-sjøer undersøkelse gjennomført i 2019 8619  , 190091"
      ]
     },
     "metadata": {},
     "output_type": "display_data"
    }
   ],
   "source": [
    "# Find the project code for the 2019 '1000 Lakes' survey\n",
    "subset(proj_df, grepl(\"Nasjonal\", project_name))"
   ]
  },
  {
   "cell_type": "markdown",
   "metadata": {},
   "source": [
    "## 3. Get stations in project\n",
    "\n",
    "Use `get_project_stations` to get a list of all stations associated with your project of interest.\n",
    "\n",
    "**To do:** It would be great if this API endpoint could also return the geographic co-ordinates (lat/lon) for each station. At present, I think this can only be achieved by iterating over the `api/projects/{proj_id}/stations/{stn_id}/samplePoint` endpoint for each station, which is slow."
   ]
  },
  {
   "cell_type": "code",
   "execution_count": 5,
   "metadata": {
    "vscode": {
     "languageId": "r"
    }
   },
   "outputs": [
    {
     "data": {
      "text/html": [
       "'1003 stations in project.'"
      ],
      "text/latex": [
       "'1003 stations in project.'"
      ],
      "text/markdown": [
       "'1003 stations in project.'"
      ],
      "text/plain": [
       "[1] \"1003 stations in project.\""
      ]
     },
     "metadata": {},
     "output_type": "display_data"
    },
    {
     "data": {
      "text/html": [
       "<table class=\"dataframe\">\n",
       "<caption>A data.frame: 6 × 5</caption>\n",
       "<thead>\n",
       "\t<tr><th></th><th scope=col>project_id</th><th scope=col>station_id</th><th scope=col>station_code</th><th scope=col>station_name</th><th scope=col>type</th></tr>\n",
       "\t<tr><th></th><th scope=col>&lt;int&gt;</th><th scope=col>&lt;int&gt;</th><th scope=col>&lt;chr&gt;</th><th scope=col>&lt;chr&gt;</th><th scope=col>&lt;chr&gt;</th></tr>\n",
       "</thead>\n",
       "<tbody>\n",
       "\t<tr><th scope=row>1</th><td>12433</td><td>71716</td><td>128-2-200</td><td>Langevatnet   </td><td>Innsjø</td></tr>\n",
       "\t<tr><th scope=row>2</th><td>12433</td><td>71717</td><td>402-2-201</td><td>Damtjenn      </td><td>Innsjø</td></tr>\n",
       "\t<tr><th scope=row>3</th><td>12433</td><td>26825</td><td>1742-1-7 </td><td>HOH 824       </td><td>Innsjø</td></tr>\n",
       "\t<tr><th scope=row>4</th><td>12433</td><td>26824</td><td>1742-1-1 </td><td>Liatjørnin    </td><td>Innsjø</td></tr>\n",
       "\t<tr><th scope=row>5</th><td>12433</td><td>26793</td><td>1718-1-10</td><td>Storskartjørna</td><td>Innsjø</td></tr>\n",
       "\t<tr><th scope=row>6</th><td>12433</td><td>26790</td><td>1717-2-6 </td><td>Liavatnet     </td><td>Innsjø</td></tr>\n",
       "</tbody>\n",
       "</table>\n"
      ],
      "text/latex": [
       "A data.frame: 6 × 5\n",
       "\\begin{tabular}{r|lllll}\n",
       "  & project\\_id & station\\_id & station\\_code & station\\_name & type\\\\\n",
       "  & <int> & <int> & <chr> & <chr> & <chr>\\\\\n",
       "\\hline\n",
       "\t1 & 12433 & 71716 & 128-2-200 & Langevatnet    & Innsjø\\\\\n",
       "\t2 & 12433 & 71717 & 402-2-201 & Damtjenn       & Innsjø\\\\\n",
       "\t3 & 12433 & 26825 & 1742-1-7  & HOH 824        & Innsjø\\\\\n",
       "\t4 & 12433 & 26824 & 1742-1-1  & Liatjørnin     & Innsjø\\\\\n",
       "\t5 & 12433 & 26793 & 1718-1-10 & Storskartjørna & Innsjø\\\\\n",
       "\t6 & 12433 & 26790 & 1717-2-6  & Liavatnet      & Innsjø\\\\\n",
       "\\end{tabular}\n"
      ],
      "text/markdown": [
       "\n",
       "A data.frame: 6 × 5\n",
       "\n",
       "| <!--/--> | project_id &lt;int&gt; | station_id &lt;int&gt; | station_code &lt;chr&gt; | station_name &lt;chr&gt; | type &lt;chr&gt; |\n",
       "|---|---|---|---|---|---|\n",
       "| 1 | 12433 | 71716 | 128-2-200 | Langevatnet    | Innsjø |\n",
       "| 2 | 12433 | 71717 | 402-2-201 | Damtjenn       | Innsjø |\n",
       "| 3 | 12433 | 26825 | 1742-1-7  | HOH 824        | Innsjø |\n",
       "| 4 | 12433 | 26824 | 1742-1-1  | Liatjørnin     | Innsjø |\n",
       "| 5 | 12433 | 26793 | 1718-1-10 | Storskartjørna | Innsjø |\n",
       "| 6 | 12433 | 26790 | 1717-2-6  | Liavatnet      | Innsjø |\n",
       "\n"
      ],
      "text/plain": [
       "  project_id station_id station_code station_name   type  \n",
       "1 12433      71716      128-2-200    Langevatnet    Innsjø\n",
       "2 12433      71717      402-2-201    Damtjenn       Innsjø\n",
       "3 12433      26825      1742-1-7     HOH 824        Innsjø\n",
       "4 12433      26824      1742-1-1     Liatjørnin     Innsjø\n",
       "5 12433      26793      1718-1-10    Storskartjørna Innsjø\n",
       "6 12433      26790      1717-2-6     Liavatnet      Innsjø"
      ]
     },
     "metadata": {},
     "output_type": "display_data"
    }
   ],
   "source": [
    "# Project of interest\n",
    "proj_id <- 12433\n",
    "\n",
    "stn_df <- get_project_stations(proj_id, token = token)\n",
    "paste0(nrow(stn_df), \" stations in project.\")\n",
    "head(stn_df)"
   ]
  },
  {
   "cell_type": "markdown",
   "metadata": {},
   "source": [
    "## 4. Get water chemistry\n",
    "\n",
    "Use `get_project_chemistry` to extract all the water chemistry data for your project and time period of of interest."
   ]
  },
  {
   "cell_type": "code",
   "execution_count": 6,
   "metadata": {
    "vscode": {
     "languageId": "r"
    }
   },
   "outputs": [
    {
     "data": {
      "text/html": [
       "<table class=\"dataframe\">\n",
       "<caption>A data.frame: 6 × 13</caption>\n",
       "<thead>\n",
       "\t<tr><th></th><th scope=col>project_id</th><th scope=col>project_name</th><th scope=col>station_id</th><th scope=col>station_code</th><th scope=col>station_name</th><th scope=col>sample_date</th><th scope=col>sample_time</th><th scope=col>depth1</th><th scope=col>depth2</th><th scope=col>parameter_name</th><th scope=col>flag</th><th scope=col>value</th><th scope=col>unit</th></tr>\n",
       "\t<tr><th></th><th scope=col>&lt;int&gt;</th><th scope=col>&lt;chr&gt;</th><th scope=col>&lt;int&gt;</th><th scope=col>&lt;chr&gt;</th><th scope=col>&lt;chr&gt;</th><th scope=col>&lt;date&gt;</th><th scope=col>&lt;chr&gt;</th><th scope=col>&lt;dbl&gt;</th><th scope=col>&lt;dbl&gt;</th><th scope=col>&lt;chr&gt;</th><th scope=col>&lt;chr&gt;</th><th scope=col>&lt;dbl&gt;</th><th scope=col>&lt;chr&gt;</th></tr>\n",
       "</thead>\n",
       "<tbody>\n",
       "\t<tr><th scope=row>1</th><td>12433</td><td>Nasjonal Innsjøundersøkelse 2019</td><td>71716</td><td>128-2-200</td><td>Langevatnet</td><td>2019-10-24</td><td>00:00:00</td><td>0</td><td>0</td><td>Ca   </td><td>NA</td><td>  2.46</td><td>mg/L</td></tr>\n",
       "\t<tr><th scope=row>2</th><td>12433</td><td>Nasjonal Innsjøundersøkelse 2019</td><td>71716</td><td>128-2-200</td><td>Langevatnet</td><td>2019-10-24</td><td>00:00:00</td><td>0</td><td>0</td><td>K    </td><td>NA</td><td>  0.27</td><td>mg/L</td></tr>\n",
       "\t<tr><th scope=row>3</th><td>12433</td><td>Nasjonal Innsjøundersøkelse 2019</td><td>71716</td><td>128-2-200</td><td>Langevatnet</td><td>2019-10-24</td><td>00:00:00</td><td>0</td><td>0</td><td>Cl   </td><td>NA</td><td>  4.14</td><td>mg/L</td></tr>\n",
       "\t<tr><th scope=row>4</th><td>12433</td><td>Nasjonal Innsjøundersøkelse 2019</td><td>71716</td><td>128-2-200</td><td>Langevatnet</td><td>2019-10-24</td><td>00:00:00</td><td>0</td><td>0</td><td>NH4-N</td><td>NA</td><td> 13.00</td><td>µg/l</td></tr>\n",
       "\t<tr><th scope=row>5</th><td>12433</td><td>Nasjonal Innsjøundersøkelse 2019</td><td>71716</td><td>128-2-200</td><td>Langevatnet</td><td>2019-10-24</td><td>00:00:00</td><td>0</td><td>0</td><td>TOC  </td><td>NA</td><td> 19.70</td><td>mg/l</td></tr>\n",
       "\t<tr><th scope=row>6</th><td>12433</td><td>Nasjonal Innsjøundersøkelse 2019</td><td>71716</td><td>128-2-200</td><td>Langevatnet</td><td>2019-10-24</td><td>00:00:00</td><td>0</td><td>0</td><td>Al   </td><td>NA</td><td>390.00</td><td>µg/l</td></tr>\n",
       "</tbody>\n",
       "</table>\n"
      ],
      "text/latex": [
       "A data.frame: 6 × 13\n",
       "\\begin{tabular}{r|lllllllllllll}\n",
       "  & project\\_id & project\\_name & station\\_id & station\\_code & station\\_name & sample\\_date & sample\\_time & depth1 & depth2 & parameter\\_name & flag & value & unit\\\\\n",
       "  & <int> & <chr> & <int> & <chr> & <chr> & <date> & <chr> & <dbl> & <dbl> & <chr> & <chr> & <dbl> & <chr>\\\\\n",
       "\\hline\n",
       "\t1 & 12433 & Nasjonal Innsjøundersøkelse 2019 & 71716 & 128-2-200 & Langevatnet & 2019-10-24 & 00:00:00 & 0 & 0 & Ca    & NA &   2.46 & mg/L\\\\\n",
       "\t2 & 12433 & Nasjonal Innsjøundersøkelse 2019 & 71716 & 128-2-200 & Langevatnet & 2019-10-24 & 00:00:00 & 0 & 0 & K     & NA &   0.27 & mg/L\\\\\n",
       "\t3 & 12433 & Nasjonal Innsjøundersøkelse 2019 & 71716 & 128-2-200 & Langevatnet & 2019-10-24 & 00:00:00 & 0 & 0 & Cl    & NA &   4.14 & mg/L\\\\\n",
       "\t4 & 12433 & Nasjonal Innsjøundersøkelse 2019 & 71716 & 128-2-200 & Langevatnet & 2019-10-24 & 00:00:00 & 0 & 0 & NH4-N & NA &  13.00 & µg/l\\\\\n",
       "\t5 & 12433 & Nasjonal Innsjøundersøkelse 2019 & 71716 & 128-2-200 & Langevatnet & 2019-10-24 & 00:00:00 & 0 & 0 & TOC   & NA &  19.70 & mg/l\\\\\n",
       "\t6 & 12433 & Nasjonal Innsjøundersøkelse 2019 & 71716 & 128-2-200 & Langevatnet & 2019-10-24 & 00:00:00 & 0 & 0 & Al    & NA & 390.00 & µg/l\\\\\n",
       "\\end{tabular}\n"
      ],
      "text/markdown": [
       "\n",
       "A data.frame: 6 × 13\n",
       "\n",
       "| <!--/--> | project_id &lt;int&gt; | project_name &lt;chr&gt; | station_id &lt;int&gt; | station_code &lt;chr&gt; | station_name &lt;chr&gt; | sample_date &lt;date&gt; | sample_time &lt;chr&gt; | depth1 &lt;dbl&gt; | depth2 &lt;dbl&gt; | parameter_name &lt;chr&gt; | flag &lt;chr&gt; | value &lt;dbl&gt; | unit &lt;chr&gt; |\n",
       "|---|---|---|---|---|---|---|---|---|---|---|---|---|---|\n",
       "| 1 | 12433 | Nasjonal Innsjøundersøkelse 2019 | 71716 | 128-2-200 | Langevatnet | 2019-10-24 | 00:00:00 | 0 | 0 | Ca    | NA |   2.46 | mg/L |\n",
       "| 2 | 12433 | Nasjonal Innsjøundersøkelse 2019 | 71716 | 128-2-200 | Langevatnet | 2019-10-24 | 00:00:00 | 0 | 0 | K     | NA |   0.27 | mg/L |\n",
       "| 3 | 12433 | Nasjonal Innsjøundersøkelse 2019 | 71716 | 128-2-200 | Langevatnet | 2019-10-24 | 00:00:00 | 0 | 0 | Cl    | NA |   4.14 | mg/L |\n",
       "| 4 | 12433 | Nasjonal Innsjøundersøkelse 2019 | 71716 | 128-2-200 | Langevatnet | 2019-10-24 | 00:00:00 | 0 | 0 | NH4-N | NA |  13.00 | µg/l |\n",
       "| 5 | 12433 | Nasjonal Innsjøundersøkelse 2019 | 71716 | 128-2-200 | Langevatnet | 2019-10-24 | 00:00:00 | 0 | 0 | TOC   | NA |  19.70 | mg/l |\n",
       "| 6 | 12433 | Nasjonal Innsjøundersøkelse 2019 | 71716 | 128-2-200 | Langevatnet | 2019-10-24 | 00:00:00 | 0 | 0 | Al    | NA | 390.00 | µg/l |\n",
       "\n"
      ],
      "text/plain": [
       "  project_id project_name                     station_id station_code\n",
       "1 12433      Nasjonal Innsjøundersøkelse 2019 71716      128-2-200   \n",
       "2 12433      Nasjonal Innsjøundersøkelse 2019 71716      128-2-200   \n",
       "3 12433      Nasjonal Innsjøundersøkelse 2019 71716      128-2-200   \n",
       "4 12433      Nasjonal Innsjøundersøkelse 2019 71716      128-2-200   \n",
       "5 12433      Nasjonal Innsjøundersøkelse 2019 71716      128-2-200   \n",
       "6 12433      Nasjonal Innsjøundersøkelse 2019 71716      128-2-200   \n",
       "  station_name sample_date sample_time depth1 depth2 parameter_name flag value \n",
       "1 Langevatnet  2019-10-24  00:00:00    0      0      Ca             NA     2.46\n",
       "2 Langevatnet  2019-10-24  00:00:00    0      0      K              NA     0.27\n",
       "3 Langevatnet  2019-10-24  00:00:00    0      0      Cl             NA     4.14\n",
       "4 Langevatnet  2019-10-24  00:00:00    0      0      NH4-N          NA    13.00\n",
       "5 Langevatnet  2019-10-24  00:00:00    0      0      TOC            NA    19.70\n",
       "6 Langevatnet  2019-10-24  00:00:00    0      0      Al             NA   390.00\n",
       "  unit\n",
       "1 mg/L\n",
       "2 mg/L\n",
       "3 mg/L\n",
       "4 µg/l\n",
       "5 mg/l\n",
       "6 µg/l"
      ]
     },
     "metadata": {},
     "output_type": "display_data"
    }
   ],
   "source": [
    "# Period of interest\n",
    "st_dt <- \"01.01.2019\"\n",
    "end_dt <- \"31.12.2019\"\n",
    "\n",
    "df <- get_project_chemistry(proj_id, st_dt, end_dt, token = token)\n",
    "head(df)"
   ]
  },
  {
   "cell_type": "code",
   "execution_count": null,
   "metadata": {
    "vscode": {
     "languageId": "r"
    }
   },
   "outputs": [],
   "source": []
  }
 ],
 "metadata": {
  "kernelspec": {
   "display_name": "R",
   "language": "R",
   "name": "ir"
  },
  "language_info": {
   "codemirror_mode": "r",
   "file_extension": ".r",
   "mimetype": "text/x-r-source",
   "name": "R",
   "pygments_lexer": "r",
   "version": "4.1.2"
  }
 },
 "nbformat": 4,
 "nbformat_minor": 4
}
